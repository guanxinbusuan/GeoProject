{
 "cells": [
  {
   "cell_type": "markdown",
   "metadata": {},
   "source": [
    "### Ai Earth Engine 《官方文档》- 应用案例\n",
    "- 按区域检索与下载Sentine-2 L2A影像\n",
    "> 哨兵2号（Sentinel-2）是欧洲空间局哥白尼计划下的一个地球观测任务，该任务主要对地球表面进行观测以提供相关遥测服务,如森林监测、土地覆盖变化侦测、天然灾害管理。该计划由2颗相同的卫星哨兵2号A（Sentinel-2A）与B（Sentinel-2B）组成的卫星群。"
   ]
  },
  {
   "cell_type": "code",
   "execution_count": 1,
   "metadata": {},
   "outputs": [
    {
     "name": "stdout",
     "output_type": "stream",
     "text": [
      "计算资源初始化中，请等待...\n",
      "计算资源初始化完成.\n"
     ]
    }
   ],
   "source": [
    "import aie\n",
    "# 使用token进行鉴权\n",
    "aie.Authenticate(token='a1e1845361248013ff7fdf5447a00e38')\n",
    "# 使用 aliyun access_key_id进行鉴权\n",
    "# aie.Authenticate(access_key_id=\"*\", access_key_secret=\"*\")\n",
    "# 使用 aliyun RAM STS 进行鉴权(需要 aiearth-core>=1.0.3)\n",
    "# aie.Authenticate(access_key_id='*', access_key_secret='*', access_key_security_token='*')\n",
    "aie.Initialize()"
   ]
  },
  {
   "cell_type": "markdown",
   "metadata": {},
   "source": [
    "#### 定义矢量区域"
   ]
  },
  {
   "cell_type": "code",
   "execution_count": null,
   "metadata": {},
   "outputs": [
    {
     "name": "stdout",
     "output_type": "stream",
     "text": []
    }
   ],
   "source": [
    "region = aie.FeatureCollection('China_Province') \\\n",
    "            .filter(aie.Filter.eq('province', '浙江省'))             \n",
    "map = aie.Map(\n",
    "    center=region.getCenter(),\n",
    "    height=300,\n",
    "    zoom=6\n",
    ")\n",
    "vis_params = {\n",
    "    'color': '#00FF00'\n",
    "}\n",
    "map.addLayer(\n",
    "    region,\n",
    "    vis_params,\n",
    "    'region',\n",
    "    bounds=region.getBounds()\n",
    ")\n",
    "map"
   ]
  },
  {
   "cell_type": "markdown",
   "metadata": {},
   "source": [
    "#### Sentinel-2 数据检索"
   ]
  },
  {
   "cell_type": "code",
   "execution_count": 8,
   "metadata": {},
   "outputs": [],
   "source": [
    "#定义函数，获取指定时间范围内的过滤Sentinel-2影像集合和中值合成的区域裁剪影像\n",
    "def s2_collection(start_date, end_date):\n",
    "    s2 = aie.ImageCollection('SENTINEL_MSIL2A') \\\n",
    "            .filterBounds(region) \\\n",
    "            .filterDate(start_date, end_date) \\\n",
    "            .filter('eo:cloud_cover<20')\n",
    "    mosaic_image = s2.median().clipToCollection(region)\n",
    "    return s2, mosaic_image\n",
    "s2, s2_mosaic = s2_collection('2021-04-01', '2022-08-30')"
   ]
  },
  {
   "cell_type": "markdown",
   "metadata": {},
   "source": [
    "#### 数据可视化"
   ]
  },
  {
   "cell_type": "code",
   "execution_count": 9,
   "metadata": {},
   "outputs": [
    {
     "data": {
      "application/vnd.jupyter.widget-view+json": {
       "model_id": "333ff6e69c8744ab848ad75c07243243",
       "version_major": 2,
       "version_minor": 0
      },
      "text/plain": [
       "Map(bottom=5538.0, center=[29.15771484375, 120.43212890625], controls=(ZoomControl(options=['position', 'zoom_…"
      ]
     },
     "execution_count": 9,
     "metadata": {},
     "output_type": "execute_result"
    }
   ],
   "source": [
    "vis_params = {\n",
    "    'bands': ['B4', 'B3', 'B2'],   \n",
    "    'min': 0,\n",
    "    'max': 3500\n",
    "}\n",
    "map.addLayer(\n",
    "    s2_mosaic,\n",
    "    vis_params,\n",
    "    'Ture color',\n",
    "    bounds=region.getBounds()\n",
    ")\n",
    "map"
   ]
  },
  {
   "cell_type": "markdown",
   "metadata": {},
   "source": [
    "#### 影像导出（离线计算）"
   ]
  },
  {
   "cell_type": "code",
   "execution_count": null,
   "metadata": {},
   "outputs": [],
   "source": [
    "# 导出镶嵌影像\n",
    "task = aie.Export.image.toAsset(s2_mosaic, 's2_mosaic', 200)\n",
    "task.start()"
   ]
  },
  {
   "cell_type": "markdown",
   "metadata": {},
   "source": [
    "### Ai Earth Engine 《官方文档》- 应用案例\n",
    "- Landsat 系列数据去云\n",
    "> AIE平台中提供的 Landsat 影像均为 USGS Collection 2 中的数据，该集合使用 QA_PIXEL 波段对云、雪进行描述。因此，可通过位运算和逻辑运算，生成云掩膜，利用 updateMask 函数去除可能是云或者云阴影的区域。此算法适用于 Landsat-5 / 7 / 8 / 9 \n",
    "> \n",
    "> 在Landsat C2数据中，QA_PIXEL波段是一个质量评估波段，用于描述每个像素的质量信息，包括云、雪、云阴影等干扰因素的存在情况。它通过二进制的位来表示不同的质量标志，每个位对应一种特定的质量属性。\n",
    "> \n",
    "> 选择相关位：QA_PIXEL波段中，第3位（bit3）表示云（Cloud），第4位（bit4）表示云阴影（Cloud Shadow）。通过位运算（如bitwiseAnd）与这些位对应的掩码进行比较，可以识别出哪些像素被云或云阴影覆盖。"
   ]
  },
  {
   "cell_type": "markdown",
   "metadata": {},
   "source": [
    "#### 定义去云算法（function）\n",
    "1. 为什么需要生成位掩码（bitmask？\n",
    "> 就像子网掩码一样，存储\"质量评估（QA）\"波段的标识位,并且除了云、云阴影和雪之外，QA_PIXEL波段中还包含其他质量标志，如传感器饱和、填充像元等。通过生成相应的位掩码，可以提取这些信息，用于进一步的质量评估和数据处理。"
   ]
  },
  {
   "cell_type": "code",
   "execution_count": null,
   "metadata": {},
   "outputs": [],
   "source": [
    "def removeLandsatCloud(image):\n",
    "    #位运算中的左移操作，用于生成特定的位掩码（bitmask）\n",
    "    cloudShadowBitMask = (1 << 4)  #位掩码（bitmask）用于标识云影,00010000(假设的，不知道总多少位)\n",
    "    cloudsBitMask = (1 << 3)  #位掩码（bitmask）用于标识云,00100000(假设的，不知道总多少位)\n",
    "    qa = image.select('QA_PIXEL')\n",
    "    mask = qa.bitwiseAnd(aie.Image(cloudShadowBitMask)).eq(aie.Image(0)).And(qa.bitwiseAnd(aie.Image(cloudsBitMask)).eq(aie.Image(0)))\n",
    "    return image.updateMask(mask)"
   ]
  },
  {
   "cell_type": "markdown",
   "metadata": {},
   "source": [
    "#### 对遥感影像进行缩放因子校正和偏移量校正\n",
    "2. 这是遥感影像预处理中的一个重要步骤，用于将影像的数字值（DN值）转换为物理量（如反射率或温度）"
   ]
  },
  {
   "cell_type": "code",
   "execution_count": 13,
   "metadata": {},
   "outputs": [],
   "source": [
    "def applyScaleFactors(image):\n",
    "    opticalBands = image.select('SR_B.').multiply(aie.Image(0.0000275)).add(aie.Image(-0.2))\n",
    "    thermalBands = image.select('ST_B.*').multiply(aie.Image(0.00341802)).add(aie.Image(149.0))\n",
    "    return image.addBands(opticalBands, None, True).addBands(thermalBands, None, True)"
   ]
  },
  {
   "cell_type": "markdown",
   "metadata": {},
   "source": [
    "#### Landsat 数据检索"
   ]
  },
  {
   "cell_type": "code",
   "execution_count": 19,
   "metadata": {},
   "outputs": [],
   "source": [
    "region = aie.FeatureCollection('China_Province') \\\n",
    "            .filter(aie.Filter.eq('province', '浙江省')) \n",
    "#定义函数，获取指定时间范围内的过滤Sentinel-2影像集合和中值合成的区域裁剪影像\n",
    "def s2_collection(start_date, end_date):\n",
    "    s2 = aie.ImageCollection('LANDSAT_LC08_C02_T1_L2') \\\n",
    "            .filterBounds(region) \\\n",
    "            .filterDate(start_date, end_date) \\\n",
    "            .filter(aie.Filter.lte('eo:cloud_cover', 20.0))\n",
    "    mosaic_image = s2.median().clipToCollection(region)\n",
    "    return s2, mosaic_image\n",
    "dataset, dataset_mosaic = s2_collection('2018-01-01', '2018-10-31')"
   ]
  },
  {
   "cell_type": "markdown",
   "metadata": {},
   "source": [
    "#### 调用算法与可视化\n",
    "3. aie.ImageCollection.mosaic将时间序列影像集合中的所有影像镶嵌成一景跨越时空的影像（排序覆盖）"
   ]
  },
  {
   "cell_type": "code",
   "execution_count": 20,
   "metadata": {},
   "outputs": [
    {
     "data": {
      "application/vnd.jupyter.widget-view+json": {
       "model_id": "1edfc3e17758466babe6eb1767ddda2f",
       "version_major": 2,
       "version_minor": 0
      },
      "text/plain": [
       "Map(center=[29.162989375000002, 120.42838813], controls=(ZoomControl(options=['position', 'zoom_in_text', 'zoo…"
      ]
     },
     "execution_count": 20,
     "metadata": {},
     "output_type": "execute_result"
    }
   ],
   "source": [
    "images_no_cloud = dataset.map(removeLandsatCloud).map(applyScaleFactors)\n",
    "image = images_no_cloud.mosaic().clipToCollection(region)\n",
    "vis_params = {\n",
    "    'bands': ['SR_B4', 'SR_B3', 'SR_B2'],\n",
    "    'min': 0.0,\n",
    "    'max': 0.3,\n",
    "}\n",
    "map = aie.Map(\n",
    "    center=image.getCenter(),\n",
    "    height=300,\n",
    "    zoom=5\n",
    ")\n",
    "map.addLayer(\n",
    "    image,\n",
    "    vis_params,\n",
    "    'True Color(432)',\n",
    "    bounds=image.getBounds()\n",
    ")\n",
    "map"
   ]
  },
  {
   "cell_type": "markdown",
   "metadata": {},
   "source": [
    "#### 数据导出（离线计算）"
   ]
  },
  {
   "cell_type": "code",
   "execution_count": 21,
   "metadata": {},
   "outputs": [],
   "source": [
    "# 导出镶嵌影像\n",
    "task = aie.Export.image.toAsset(image, 'landsat8 去云与校正-官文案例', 500)\n",
    "task.start()"
   ]
  },
  {
   "cell_type": "markdown",
   "metadata": {},
   "source": [
    "### Tips：如何利用掩膜（矩阵）图像进行“与门”逻辑电路更新原影像\n",
    "> 掩膜（Mask）是一种用于控制图像处理区域或处理过程的特殊图像。它通常是一个与原始图像同样大小的二维矩阵，用于选择性地遮盖或显示图像的特定区域。\n",
    ">- 基本原理：掩膜通常是一个与原始影像具有相同尺寸的二维数组或栅格数据，其每个像素的值用于决定是否对原始影像的对应像素进行处理。一般情况下，掩膜的像素值为0或1，其中0表示不处理（即排除），1表示要处理（即保留）。\n",
    ">- 主要作用：掩膜可以用于去除影像中的干扰信息、提取感兴趣区域、进行数据融合等操作"
   ]
  },
  {
   "cell_type": "code",
   "execution_count": 3,
   "metadata": {},
   "outputs": [
    {
     "data": {
      "application/vnd.jupyter.widget-view+json": {
       "model_id": "777b1252d1eb4386a51fe8ada641bdb5",
       "version_major": 2,
       "version_minor": 0
      },
      "text/plain": [
       "Map(center=[30.211869680864705, 120.45063454877959], controls=(ZoomControl(options=['position', 'zoom_in_text'…"
      ]
     },
     "execution_count": 3,
     "metadata": {},
     "output_type": "execute_result"
    }
   ],
   "source": [
    "image = aie.Image('S2A_MSIL2A_20220103T024121_N0301_R089_T51RTP_20220103T050347')\n",
    "map = aie.Map(\n",
    "    center=image.getCenter(),\n",
    "    height=300,\n",
    "    zoom=8\n",
    ")\n",
    "# 原始真彩色影像\n",
    "vis_params_raw = {\n",
    "    'bands': ['B4', 'B3', 'B2'],\n",
    "    'min': 1000,\n",
    "    'max': 2600,\n",
    "}\n",
    "map.addLayer(\n",
    "    image,\n",
    "    vis_params_raw,\n",
    "    'raw true color image',\n",
    "    bounds=image.getBounds()\n",
    ")\n",
    "map "
   ]
  },
  {
   "cell_type": "code",
   "execution_count": null,
   "metadata": {},
   "outputs": [
    {
     "data": {
      "application/vnd.jupyter.widget-view+json": {
       "model_id": "777b1252d1eb4386a51fe8ada641bdb5",
       "version_major": 2,
       "version_minor": 0
      },
      "text/plain": [
       "Map(bottom=11099.0, center=[29.8553466796875, 120.37445068359375], controls=(ZoomControl(options=['position', …"
      ]
     },
     "execution_count": 9,
     "metadata": {},
     "output_type": "execute_result"
    }
   ],
   "source": [
    "# 单波段掩膜，生成bool值矩阵图像\n",
    "land_mask = image.select(['B11']).gt(aie.Image(200))\n",
    "vis_params_mask = {\n",
    "    'min': 0,\n",
    "    'max': 1,\n",
    "}\n",
    "map.addLayer(\n",
    "    land_mask,\n",
    "    vis_params_mask,\n",
    "    'land mask',\n",
    "    bounds=image.getBounds()\n",
    ")\n",
    "map"
   ]
  },
  {
   "cell_type": "code",
   "execution_count": null,
   "metadata": {},
   "outputs": [
    {
     "data": {
      "application/vnd.jupyter.widget-view+json": {
       "model_id": "777b1252d1eb4386a51fe8ada641bdb5",
       "version_major": 2,
       "version_minor": 0
      },
      "text/plain": [
       "Map(bottom=5645.4658203125, center=[29.630126953125, 119.7235107421875], controls=(ZoomControl(options=['posit…"
      ]
     },
     "execution_count": 8,
     "metadata": {},
     "output_type": "execute_result"
    }
   ],
   "source": [
    "#对原始影像做单波段掩膜后使用updateMask()更新影像：\n",
    "#原始影像中被掩膜值为 0 的像素将变为透明，掩膜值为 1 的像素保持原有值不变\n",
    "land_image = image.updateMask(land_mask)\n",
    "map.addLayer(\n",
    "    land_image,\n",
    "    vis_params_raw,\n",
    "    'land image',\n",
    "    bounds=image.getBounds()\n",
    ")\n",
    "map"
   ]
  },
  {
   "cell_type": "code",
   "execution_count": null,
   "metadata": {},
   "outputs": [
    {
     "data": {
      "application/vnd.jupyter.widget-view+json": {
       "model_id": "777b1252d1eb4386a51fe8ada641bdb5",
       "version_major": 2,
       "version_minor": 0
      },
      "text/plain": [
       "Map(bottom=11212.0, center=[29.234619140625, 112.28302001953125], controls=(ZoomControl(options=['position', '…"
      ]
     },
     "execution_count": 10,
     "metadata": {},
     "output_type": "execute_result"
    }
   ],
   "source": [
    "# 多波段掩膜，生成bool值矩阵图像\n",
    "multi_band_mask = image.select(['B4', 'B3', 'B2']).gt(aie.Image(200))\n",
    "map.addLayer(\n",
    "    multi_band_mask,\n",
    "    vis_params_mask,\n",
    "    'multi-band mask',\n",
    "    bounds=image.getBounds()\n",
    ")\n",
    "map"
   ]
  },
  {
   "cell_type": "code",
   "execution_count": null,
   "metadata": {},
   "outputs": [
    {
     "data": {
      "application/vnd.jupyter.widget-view+json": {
       "model_id": "777b1252d1eb4386a51fe8ada641bdb5",
       "version_major": 2,
       "version_minor": 0
      },
      "text/plain": [
       "Map(bottom=11079.2900390625, center=[29.9652099609375, 119.73724365234375], controls=(ZoomControl(options=['po…"
      ]
     },
     "execution_count": 11,
     "metadata": {},
     "output_type": "execute_result"
    }
   ],
   "source": [
    "#对原始影像做多波段掩膜后使用updateMask()更新影像：\n",
    "#原始影像中被掩膜值为 0 的像素将变为透明，掩膜值为 1 的像素保持原有值不变\n",
    "multi_band_masked_image = image.select(['B4', 'B3', 'B2']).updateMask(multi_band_mask)\n",
    "map.addLayer(\n",
    "    multi_band_masked_image,\n",
    "    vis_params_raw,\n",
    "    'multi-band masked image',\n",
    "    bounds=image.getBounds()\n",
    ")\n",
    "map"
   ]
  }
 ],
 "metadata": {
  "kernelspec": {
   "display_name": "aie-sdk",
   "language": "python",
   "name": "python3"
  },
  "language_info": {
   "codemirror_mode": {
    "name": "ipython",
    "version": 3
   },
   "file_extension": ".py",
   "mimetype": "text/x-python",
   "name": "python",
   "nbconvert_exporter": "python",
   "pygments_lexer": "ipython3",
   "version": "3.8.20"
  }
 },
 "nbformat": 4,
 "nbformat_minor": 2
}
