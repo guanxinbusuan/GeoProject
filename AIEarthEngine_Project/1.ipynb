{
 "cells": [
  {
   "cell_type": "markdown",
   "metadata": {},
   "source": [
    "### Ai Earth Engine 《官方文档》- 应用案例\n",
    "- 按区域检索与下载Sentine-2 L2A影像\n",
    "> 哨兵2号（Sentinel-2）是欧洲空间局哥白尼计划下的一个地球观测任务，该任务主要对地球表面进行观测以提供相关遥测服务,如森林监测、土地覆盖变化侦测、天然灾害管理。该计划由2颗相同的卫星哨兵2号A（Sentinel-2A）与B（Sentinel-2B）组成的卫星群。"
   ]
  },
  {
   "cell_type": "code",
   "execution_count": 2,
   "metadata": {},
   "outputs": [
    {
     "name": "stdout",
     "output_type": "stream",
     "text": []
    }
   ],
   "source": [
    "import aie\n",
    "# 使用token进行鉴权\n",
    "aie.Authenticate(token='a1e1845361248013ff7fdf5447a00e38')\n",
    "# 使用 aliyun access_key_id进行鉴权\n",
    "# aie.Authenticate(access_key_id=\"*\", access_key_secret=\"*\")\n",
    "# 使用 aliyun RAM STS 进行鉴权(需要 aiearth-core>=1.0.3)\n",
    "# aie.Authenticate(access_key_id='*', access_key_secret='*', access_key_security_token='*')\n",
    "aie.Initialize()"
   ]
  },
  {
   "cell_type": "markdown",
   "metadata": {},
   "source": [
    "#### 定义矢量区域"
   ]
  },
  {
   "cell_type": "code",
   "execution_count": null,
   "metadata": {},
   "outputs": [
    {
     "name": "stdout",
     "output_type": "stream",
     "text": []
    }
   ],
   "source": [
    "region = aie.FeatureCollection('China_Province') \\\n",
    "            .filter(aie.Filter.eq('province', '浙江省'))             \n",
    "map = aie.Map(\n",
    "    center=region.getCenter(),\n",
    "    height=300,\n",
    "    zoom=6\n",
    ")\n",
    "vis_params = {\n",
    "    'color': '#00FF00'\n",
    "}\n",
    "map.addLayer(\n",
    "    region,\n",
    "    vis_params,\n",
    "    'region',\n",
    "    bounds=region.getBounds()\n",
    ")\n",
    "map"
   ]
  },
  {
   "cell_type": "markdown",
   "metadata": {},
   "source": [
    "#### Sentinel-2 数据检索"
   ]
  },
  {
   "cell_type": "code",
   "execution_count": 8,
   "metadata": {},
   "outputs": [],
   "source": [
    "#定义函数，获取指定时间范围内的过滤Sentinel-2影像集合和中值合成的区域裁剪影像\n",
    "def s2_collection(start_date, end_date):\n",
    "    s2 = aie.ImageCollection('SENTINEL_MSIL2A') \\\n",
    "            .filterBounds(region) \\\n",
    "            .filterDate(start_date, end_date) \\\n",
    "            .filter('eo:cloud_cover<20')\n",
    "    mosaic_image = s2.median().clipToCollection(region)\n",
    "    return s2, mosaic_image\n",
    "s2, s2_mosaic = s2_collection('2021-04-01', '2022-08-30')"
   ]
  },
  {
   "cell_type": "markdown",
   "metadata": {},
   "source": [
    "#### 数据可视化"
   ]
  },
  {
   "cell_type": "code",
   "execution_count": 9,
   "metadata": {},
   "outputs": [
    {
     "data": {
      "application/vnd.jupyter.widget-view+json": {
       "model_id": "333ff6e69c8744ab848ad75c07243243",
       "version_major": 2,
       "version_minor": 0
      },
      "text/plain": [
       "Map(bottom=5538.0, center=[29.15771484375, 120.43212890625], controls=(ZoomControl(options=['position', 'zoom_…"
      ]
     },
     "execution_count": 9,
     "metadata": {},
     "output_type": "execute_result"
    }
   ],
   "source": [
    "vis_params = {\n",
    "    'bands': ['B4', 'B3', 'B2'],   \n",
    "    'min': 0,\n",
    "    'max': 3500\n",
    "}\n",
    "map.addLayer(\n",
    "    s2_mosaic,\n",
    "    vis_params,\n",
    "    'Ture color',\n",
    "    bounds=region.getBounds()\n",
    ")\n",
    "map"
   ]
  },
  {
   "cell_type": "markdown",
   "metadata": {},
   "source": [
    "#### 影像导出（离线计算）"
   ]
  },
  {
   "cell_type": "code",
   "execution_count": null,
   "metadata": {},
   "outputs": [],
   "source": [
    "# 导出镶嵌影像\n",
    "task = aie.Export.image.toAsset(s2_mosaic, 's2_mosaic', 200)\n",
    "task.start()"
   ]
  },
  {
   "cell_type": "markdown",
   "metadata": {},
   "source": [
    "### Ai Earth Engine 《官方文档》- 应用案例\n",
    "- Landsat 系列数据去云\n",
    "> AIE平台中提供的 Landsat 影像均为 USGS Collection 2 中的数据，该集合使用 QA_PIXEL 波段对云、雪进行描述。因此，可通过位运算和逻辑运算，生成云掩膜，利用 updateMask 函数去除可能是云或者云阴影的区域。此算法适用于 Landsat-5 / 7 / 8 / 9 。"
   ]
  },
  {
   "cell_type": "code",
   "execution_count": null,
   "metadata": {},
   "outputs": [],
   "source": []
  }
 ],
 "metadata": {
  "kernelspec": {
   "display_name": "aie-sdk",
   "language": "python",
   "name": "python3"
  },
  "language_info": {
   "codemirror_mode": {
    "name": "ipython",
    "version": 3
   },
   "file_extension": ".py",
   "mimetype": "text/x-python",
   "name": "python",
   "nbconvert_exporter": "python",
   "pygments_lexer": "ipython3",
   "version": "3.8.20"
  }
 },
 "nbformat": 4,
 "nbformat_minor": 2
}
