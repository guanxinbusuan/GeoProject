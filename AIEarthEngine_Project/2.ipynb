{
 "cells": [
  {
   "cell_type": "markdown",
   "metadata": {},
   "source": [
    "### Ai Earth Engine 《官方文档》 - 应用案例\n",
    "- 典型植被指数计算及区域统计\n",
    "> 对检索的影像（以 Landsat-8 为例），通过波段运算计算常见的指数。并以归一化植被指数（ NDVI ）为例，进行区域均值统计以及时序折线图制作。"
   ]
  },
  {
   "cell_type": "code",
   "execution_count": 1,
   "metadata": {},
   "outputs": [
    {
     "name": "stdout",
     "output_type": "stream",
     "text": [
      "计算资源初始化中，请等待...\n",
      "计算资源初始化完成.\n"
     ]
    }
   ],
   "source": [
    "import aie\n",
    "# 使用token进行鉴权\n",
    "aie.Authenticate(token='a1d1b9fec8d44f88343352e117bbd983')\n",
    "# 使用 aliyun access_key_id进行鉴权\n",
    "# aie.Authenticate(access_key_id=\"*\", access_key_secret=\"*\")\n",
    "# 使用 aliyun RAM STS 进行鉴权(需要 aiearth-core>=1.0.3)\n",
    "# aie.Authenticate(access_key_id='*', access_key_secret='*', access_key_security_token='*')\n",
    "aie.Initialize()"
   ]
  },
  {
   "cell_type": "markdown",
   "metadata": {},
   "source": [
    "#### 典型光谱指数算法\n",
    "> 定义典型指数计算方法。使用 aie.Image.add 、 aie.Image.subtract 、 aie.Image.multiply 和 aie.Image.divide 实现影像波段运算。另外可使用 aie.Image.normalizedDifference 实现两个波段的归一化差值运算 (Band1-Band2)/(Band1+Band2) ，使用 aie.Image.expression 可实现构建表达式对影像进行波段运算。\n",
    "- 如切换卫星数据源，需要调整对应的波段名称"
   ]
  },
  {
   "cell_type": "code",
   "execution_count": 2,
   "metadata": {},
   "outputs": [],
   "source": [
    "# 比值植被指数 (RVI, Ratio Vegetation Index）\n",
    "# RVI常用于监测植被覆盖、评估生长状态或估算生物量，但因其对土壤背景敏感，可能受非植被区域干扰。\n",
    "def getRVI(image):\n",
    "    nir = image.select(['SR_B5'])   # 提取近红外波段（SR_B5）\n",
    "    red = image.select(['SR_B4'])   # 提取红波段（SR_B4）\n",
    "    rvi = nir.divide(red)      # 计算 RVI = 近红外 / 红波段\n",
    "    return rvi.rename(['RVI'])  #重命名影像波段名称\n",
    "\n",
    "# 增强型植被指数 （Enhanced Vegetation Index，EVI）\n",
    "# 克服了传统植被指数（如 NDVI）在高植被覆盖度区域饱和的问题，能够更敏感地反映植被的生长状态。\n",
    "def getEVI(image):\n",
    "    evi = image.expression(\n",
    "        '(2.5 * (nir - red)) /(nir + 6 * red - 7.5 * blue + 1)',      #通过构建表达式对影像进行波段运算\n",
    "        {\n",
    "            'nir': image.select(['SR_B5']),\n",
    "            'red': image.select(['SR_B4']),\n",
    "            'blue': image.select(['SR_B2'])\n",
    "    }).rename(['EVI'])\n",
    "    return evi\n",
    "\n",
    "# 归一化植被指数 （Normalized Difference Vegetation Index，NDVI）\n",
    "# NDVI = (NIR - Red) / (NIR + Red)， 用于评估植被的光合作用和植被覆盖度\n",
    "def getNDVI(image):\n",
    "    ndvi = image.normalizedDifference(['SR_B5', 'SR_B4']).rename(['NDVI'])  #计算两个波段的归一化差值\n",
    "    return ndvi\n",
    "\n",
    "# 近红外植被指数    (Near-Infrared Vegetation Index，NIRv）\n",
    "# NIRv=近红外波段（nir）* NDVI\n",
    "def getNIRv(image):\n",
    "    nir = image.select(['SR_B5'])\n",
    "    nirv = nir.multiply(image.normalizedDifference(['SR_B5', 'SR_B4'])).rename(['NIRv'])\n",
    "    return nirv\n",
    "\n",
    "# 土壤调整植被指数   (Soil-Adjusted Vegetation Index，SAVI）\n",
    "#  SAVI = (NIR - Red) * L / (NIR + Red + C)     植被指数，减少了土壤背景对植被指数的影响\n",
    "def getSAVI(image):\n",
    "    nir = image.select(['SR_B5'])\n",
    "    red = image.select(['SR_B4'])\n",
    "    savi = ((nir.subtract(red)).multiply(aie.Image.constant(1.5))).divide((nir.add(red)).add(aie.Image.constant(0.5))).rename(['SAVI'])\n",
    "    return savi\n",
    "\n",
    "# 归一化水体指数  （Normalized Difference Water Index，NDWI）\n",
    "#NDWI = (Green - NIR) / (Green + NIR)  用于监测水体的指数，范围通常在 -1 到 1 之间，正值表示可能存在水体，负值表示可能是植被或土壤\n",
    "def getNDWI(image):\n",
    "    ndwi = image.normalizedDifference(['SR_B3', 'SR_B5']).rename(['NDWI'])\n",
    "    return ndwi"
   ]
  },
  {
   "cell_type": "markdown",
   "metadata": {},
   "source": [
    "#### Landsat-8 数据检索\n",
    "- 指定区域、时间、云量检索 Landsat-8 ，并对数据进行去云处理。\n",
    "- 矢量区域裁选遥感图像区域\n",
    "- 定义去云和云阴影算法 "
   ]
  },
  {
   "cell_type": "code",
   "execution_count": 3,
   "metadata": {},
   "outputs": [],
   "source": [
    "region = aie.FeatureCollection('China_Province') \\\n",
    "            .filter(aie.Filter.eq('province', '浙江省'))"
   ]
  },
  {
   "cell_type": "code",
   "execution_count": 4,
   "metadata": {},
   "outputs": [],
   "source": [
    "def l8Collection(startdate, enddate):\n",
    "    images = aie.ImageCollection('LANDSAT_LC08_C02_T1_L2') \\\n",
    "            .filterBounds(region) \\\n",
    "            .filterDate(startdate, enddate)\n",
    "    return images\n",
    "def removeLandsatCloud(image):\n",
    "    cloudShadowBitMask = (1 << 4)\n",
    "    cloudsBitMask = (1 << 3)\n",
    "    qa = image.select('QA_PIXEL')\n",
    "    mask = qa.bitwiseAnd(aie.Image(cloudShadowBitMask)).eq(aie.Image(0)).And(qa.bitwiseAnd(aie.Image(cloudsBitMask)).eq(aie.Image(0)))\n",
    "    return image.updateMask(mask)"
   ]
  },
  {
   "cell_type": "code",
   "execution_count": 5,
   "metadata": {},
   "outputs": [
    {
     "name": "stdout",
     "output_type": "stream",
     "text": [
      "19\n"
     ]
    }
   ],
   "source": [
    "lc8_collection = l8Collection('2021-08-01', '2021-08-31')\n",
    "lc8_collection.map(removeLandsatCloud)\n",
    "print(lc8_collection.size().getInfo())"
   ]
  },
  {
   "cell_type": "markdown",
   "metadata": {},
   "source": [
    "- 在整个影像集合上计算最大值合成影像，这通常用来获得无云或少云的最佳视图\n",
    "> .max()是应用于影像集合（Image Collection）的一个方法，用于从集合中的所有影像中计算一个合成影像。具体来说，它会在每个像素位置（即每一个地理坐标）上选择具有最大值的像素来生成一张新的影像"
   ]
  },
  {
   "cell_type": "code",
   "execution_count": 6,
   "metadata": {},
   "outputs": [],
   "source": [
    "lc8_img = lc8_collection.max()"
   ]
  },
  {
   "cell_type": "markdown",
   "metadata": {},
   "source": [
    "#### 指数图层的可视化\n",
    "- 以 NDVI 计算为例输出指数计算成果，并地图可视化展示"
   ]
  },
  {
   "cell_type": "code",
   "execution_count": 9,
   "metadata": {},
   "outputs": [
    {
     "data": {
      "application/vnd.jupyter.widget-view+json": {
       "model_id": "11e98422611d4609aa58819b961824e2",
       "version_major": 2,
       "version_minor": 0
      },
      "text/plain": [
       "Map(center=[29.58457794645941, 120.62290153913469], controls=(ZoomControl(options=['position', 'zoom_in_text',…"
      ]
     },
     "execution_count": 9,
     "metadata": {},
     "output_type": "execute_result"
    }
   ],
   "source": [
    "ndvi = getNDVI(lc8_img)\n",
    "ndvi_vis = {\n",
    "    'min': -0.2,\n",
    "    'max': 0.6,\n",
    "    'palette': [\n",
    "        '#2B83BA', '#ABDDA4', '#FFFFBF', '#FDAE61', '#D7191C'\n",
    "    ]\n",
    "}\n",
    "\n",
    "map = aie.Map(\n",
    "    center=ndvi.getCenter(),\n",
    "    height=800,\n",
    "    zoom=5\n",
    ")\n",
    "\n",
    "map.addLayer(\n",
    "    ndvi,\n",
    "    ndvi_vis,\n",
    "    'NDVI',\n",
    "    bounds=ndvi.getBounds()\n",
    ")\n",
    "map"
   ]
  },
  {
   "cell_type": "markdown",
   "metadata": {},
   "source": [
    "#### NDVI 区域统计\n",
    "\n",
    "> 使用中国市级行政区划数据，按照市域范围对 NDVI 进行均值统计。使用 aie.Image.reduceRegions 和 aie.Reducer.mean 实现对影像进行指定区域范围均值统计。 当在较大范围内执行 ReduceRegion 或者 ReduceRegions 函数时，可能存在较为耗时的情况。开发者根据实际需求调整 scale（单位：米），scale 越大，耗时越少。"
   ]
  },
  {
   "cell_type": "code",
   "execution_count": 10,
   "metadata": {},
   "outputs": [
    {
     "data": {
      "application/vnd.jupyter.widget-view+json": {
       "model_id": "448df2b62d864cc596a950e070d2a5d8",
       "version_major": 2,
       "version_minor": 0
      },
      "text/plain": [
       "VBox(children=(Figure(axes=[Axis(scale=OrdinalScale()), Axis(orientation='vertical', scale=LinearScale())], fi…"
      ]
     },
     "metadata": {},
     "output_type": "display_data"
    }
   ],
   "source": [
    "ndvi=getNDVI(lc8_img)\n",
    "zone = aie.FeatureCollection('China_City') \\\n",
    "          .filter(aie.Filter.eq('province', '浙江省'))\n",
    "# 计算浙江省内每个子区域的 NDVI 平均值。\n",
    "# reduceRegions 方法用于在一个或多个区域上对影像进行聚合操作.\n",
    "region_mean = ndvi.reduceRegions(zone, aie.Reducer.mean(), 1000)\n",
    "region_info = region_mean.getInfo()\n",
    "\n",
    "x_list = []\n",
    "y_list = []\n",
    "for feature in region_info['features']:\n",
    "    x_list.append(feature['properties']['city'])\n",
    "    y_list.append(feature['properties']['NDVI_mean'])\n",
    "# print(x_list)\n",
    "# print(y_list)\n",
    "\n",
    "from bqplot import pyplot as plt\n",
    "plt.figure(1, title='2021年浙江省各市NDVI均值统计')\n",
    "plt.bar(x_list, y_list)   #colors=['MediumSeaGreen']\n",
    "plt.show()"
   ]
  },
  {
   "cell_type": "markdown",
   "metadata": {},
   "source": [
    "#### NDVI时间序列分析\n",
    "- 在指定空间范围内实现时间序列统计分析，并绘制折线图。"
   ]
  },
  {
   "cell_type": "code",
   "execution_count": 14,
   "metadata": {},
   "outputs": [],
   "source": [
    "# 构建时间序列函数\n",
    "def doSeries(start_time, end_time, zone):\n",
    "    lc8_col = l8Collection(start_time, end_time)\n",
    "    lc8_col.map(removeLandsatCloud)\n",
    "    lc8_img = lc8_col.mosaic()\n",
    "    ndvi = getNDVI(lc8_img)\n",
    "    return ndvi.reduceRegion(aie.Reducer.mean(), zone, 1000)"
   ]
  },
  {
   "cell_type": "code",
   "execution_count": 15,
   "metadata": {},
   "outputs": [
    {
     "data": {
      "application/vnd.jupyter.widget-view+json": {
       "model_id": "a8be6269d9124511b769bd3e47ca4430",
       "version_major": 2,
       "version_minor": 0
      },
      "text/plain": [
       "VBox(children=(Figure(axes=[Axis(scale=OrdinalScale()), Axis(orientation='vertical', scale=LinearScale())], fi…"
      ]
     },
     "metadata": {},
     "output_type": "display_data"
    }
   ],
   "source": [
    "# 融合矢量集合中所有矢量对象的几何对象，以Geometry数据结构返回融合后的几何对象\n",
    "zone = aie.FeatureCollection('China_Province') \\\n",
    "          .filter(aie.Filter.eq('province', '浙江省')).geometry()\n",
    "\n",
    "x_ndvi_series = []\n",
    "y_ndvi_series = []\n",
    "\n",
    "year = '2021'\n",
    "mon = ['01','02','03','04','05','06','07','08','09','10','11','12']\n",
    "lday = ['31','28','31','30','31','30','31','31','30','31','30','31']\n",
    "\n",
    "for i in range(0,12):\n",
    "    startdate = year + '-' + mon[i] + '-01'\n",
    "    enddate = year + '-' + mon[i] + '-' + lday[i]\n",
    "    lc8_ndvi_mon = doSeries(startdate, enddate , zone)\n",
    "    x_ndvi_series.append(mon[i] + '月')\n",
    "    y_ndvi_series.append(lc8_ndvi_mon.getInfo()['NDVI_mean'])\n",
    "\n",
    "# print(x_ndvi_series)\n",
    "# print(y_ndvi_series)\n",
    "from bqplot import pyplot as plt\n",
    "plt.figure(2, title='2021年浙江省逐月NDVI均值统计')\n",
    "plt.plot(x_ndvi_series, y_ndvi_series)\n",
    "plt.show()"
   ]
  },
  {
   "cell_type": "markdown",
   "metadata": {},
   "source": [
    "#### 导出图像（离线计算）"
   ]
  },
  {
   "cell_type": "code",
   "execution_count": null,
   "metadata": {},
   "outputs": [],
   "source": [
    "task = aie.Export.image.toAsset(ndvi, 'NDVI', 30)\n",
    "task.start()"
   ]
  }
 ],
 "metadata": {
  "kernelspec": {
   "display_name": "aie-sdk",
   "language": "python",
   "name": "python3"
  },
  "language_info": {
   "codemirror_mode": {
    "name": "ipython",
    "version": 3
   },
   "file_extension": ".py",
   "mimetype": "text/x-python",
   "name": "python",
   "nbconvert_exporter": "python",
   "pygments_lexer": "ipython3",
   "version": "3.8.20"
  }
 },
 "nbformat": 4,
 "nbformat_minor": 2
}
